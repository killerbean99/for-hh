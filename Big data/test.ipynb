{
 "cells": [
  {
   "cell_type": "code",
   "execution_count": null,
   "metadata": {},
   "outputs": [
    {
     "ename": "",
     "evalue": "",
     "output_type": "error",
     "traceback": [
      "\u001b[1;31mRunning cells with 'c:\\Python311\\python.exe' requires the ipykernel package.\n",
      "\u001b[1;31mRun the following command to install 'ipykernel' into the Python environment. \n",
      "\u001b[1;31mCommand: 'c:/Python311/python.exe -m pip install ipykernel -U --user --force-reinstall'"
     ]
    }
   ],
   "source": [
    "import pytesseract as pst\n",
    "import PIL.Image as pi\n",
    "# import cv2\n",
    "from pytesseract import Output\n",
    "from wand.image import Image as wii\n",
    "from pdf2image import convert_from_path\n",
    "\n",
    "import numpy as np\n",
    "import pandas as pd\n",
    "import re\n",
    "\n",
    "# import os\n",
    "import string\n",
    "import IPython.display as Ipd\n",
    "from glob import glob as gg\n",
    "# from tqdm import tqdm"
   ]
  },
  {
   "cell_type": "code",
   "execution_count": null,
   "metadata": {},
   "outputs": [
    {
     "ename": "",
     "evalue": "",
     "output_type": "error",
     "traceback": [
      "\u001b[1;31mRunning cells with 'c:\\Python311\\python.exe' requires the ipykernel package.\n",
      "\u001b[1;31mRun the following command to install 'ipykernel' into the Python environment. \n",
      "\u001b[1;31mCommand: 'c:/Python311/python.exe -m pip install ipykernel -U --user --force-reinstall'"
     ]
    }
   ],
   "source": [
    "'''Text recognition configuration'''\n",
    "MY_CONFIG = r\"--psm 3 --oem 3 -l eng\" # --psm 3, 6 \n",
    "PNG_FILES = gg('./png/*.png')\n",
    "\n",
    "# Files that we use\n",
    "test_files_ix = [2]"
   ]
  },
  {
   "cell_type": "code",
   "execution_count": null,
   "metadata": {},
   "outputs": [
    {
     "ename": "",
     "evalue": "",
     "output_type": "error",
     "traceback": [
      "\u001b[1;31mRunning cells with 'c:\\Python311\\python.exe' requires the ipykernel package.\n",
      "\u001b[1;31mRun the following command to install 'ipykernel' into the Python environment. \n",
      "\u001b[1;31mCommand: 'c:/Python311/python.exe -m pip install ipykernel -U --user --force-reinstall'"
     ]
    }
   ],
   "source": [
    "file = './png/MicrosoftTeams-image.png'"
   ]
  },
  {
   "cell_type": "code",
   "execution_count": null,
   "metadata": {},
   "outputs": [
    {
     "ename": "",
     "evalue": "",
     "output_type": "error",
     "traceback": [
      "\u001b[1;31mRunning cells with 'c:\\Python311\\python.exe' requires the ipykernel package.\n",
      "\u001b[1;31mRun the following command to install 'ipykernel' into the Python environment. \n",
      "\u001b[1;31mCommand: 'c:/Python311/python.exe -m pip install ipykernel -U --user --force-reinstall'"
     ]
    }
   ],
   "source": [
    "text = pst.image_to_string(pi.open(file), config = MY_CONFIG)\n",
    "test_list = text.split() \n",
    "\n",
    "print(test_list)"
   ]
  },
  {
   "cell_type": "code",
   "execution_count": null,
   "metadata": {},
   "outputs": [
    {
     "ename": "",
     "evalue": "",
     "output_type": "error",
     "traceback": [
      "\u001b[1;31mRunning cells with 'c:\\Python311\\python.exe' requires the ipykernel package.\n",
      "\u001b[1;31mRun the following command to install 'ipykernel' into the Python environment. \n",
      "\u001b[1;31mCommand: 'c:/Python311/python.exe -m pip install ipykernel -U --user --force-reinstall'"
     ]
    }
   ],
   "source": [
    "test_list = test_list[test_list.index('events:') + 1:]"
   ]
  },
  {
   "cell_type": "code",
   "execution_count": null,
   "metadata": {},
   "outputs": [
    {
     "ename": "",
     "evalue": "",
     "output_type": "error",
     "traceback": [
      "\u001b[1;31mRunning cells with 'c:\\Python311\\python.exe' requires the ipykernel package.\n",
      "\u001b[1;31mRun the following command to install 'ipykernel' into the Python environment. \n",
      "\u001b[1;31mCommand: 'c:/Python311/python.exe -m pip install ipykernel -U --user --force-reinstall'"
     ]
    }
   ],
   "source": [
    "str1 = ' '.join(test_list)"
   ]
  },
  {
   "cell_type": "code",
   "execution_count": null,
   "metadata": {},
   "outputs": [
    {
     "ename": "",
     "evalue": "",
     "output_type": "error",
     "traceback": [
      "\u001b[1;31mRunning cells with 'c:\\Python311\\python.exe' requires the ipykernel package.\n",
      "\u001b[1;31mRun the following command to install 'ipykernel' into the Python environment. \n",
      "\u001b[1;31mCommand: 'c:/Python311/python.exe -m pip install ipykernel -U --user --force-reinstall'"
     ]
    }
   ],
   "source": [
    "new_list = str1.split('. ')"
   ]
  },
  {
   "cell_type": "code",
   "execution_count": null,
   "metadata": {},
   "outputs": [
    {
     "ename": "",
     "evalue": "",
     "output_type": "error",
     "traceback": [
      "\u001b[1;31mRunning cells with 'c:\\Python311\\python.exe' requires the ipykernel package.\n",
      "\u001b[1;31mRun the following command to install 'ipykernel' into the Python environment. \n",
      "\u001b[1;31mCommand: 'c:/Python311/python.exe -m pip install ipykernel -U --user --force-reinstall'"
     ]
    }
   ],
   "source": [
    "for sentence in new_list:\n",
    "    if sentence[-1] != '.':\n",
    "        new_list[new_list.index(sentence)] += '.'"
   ]
  },
  {
   "cell_type": "code",
   "execution_count": null,
   "metadata": {},
   "outputs": [
    {
     "ename": "",
     "evalue": "",
     "output_type": "error",
     "traceback": [
      "\u001b[1;31mRunning cells with 'c:\\Python311\\python.exe' requires the ipykernel package.\n",
      "\u001b[1;31mRun the following command to install 'ipykernel' into the Python environment. \n",
      "\u001b[1;31mCommand: 'c:/Python311/python.exe -m pip install ipykernel -U --user --force-reinstall'"
     ]
    }
   ],
   "source": [
    "new_list"
   ]
  },
  {
   "cell_type": "code",
   "execution_count": null,
   "metadata": {},
   "outputs": [
    {
     "ename": "",
     "evalue": "",
     "output_type": "error",
     "traceback": [
      "\u001b[1;31mRunning cells with 'c:\\Python311\\python.exe' requires the ipykernel package.\n",
      "\u001b[1;31mRun the following command to install 'ipykernel' into the Python environment. \n",
      "\u001b[1;31mCommand: 'c:/Python311/python.exe -m pip install ipykernel -U --user --force-reinstall'"
     ]
    }
   ],
   "source": [
    "matrix = [[6, 2, 4, 5, 3, 3, 1, 8, 7],\n",
    "          [6, 1, 9, 7, 2, 8, 6, 3, 4],\n",
    "          [8, 3, 7, 6, 1, 4, 2, 9, 5],\n",
    "          [1, 4, 3, 8, 6, 5, 7, 2, 9],\n",
    "          [9, 5, 8, 2, 4, 7, 3, 6, 1],\n",
    "          [7, 6, 2, 3, 9, 1, 4, 5, 8],\n",
    "          [3, 7, 1, 9, 5, 6, 8, 4, 2],\n",
    "          [4, 9, 6, 1, 8, 2, 5, 7, 3],\n",
    "          [2, 8, 5, 4, 7, 3, 9, 1, 6]]"
   ]
  },
  {
   "cell_type": "code",
   "execution_count": null,
   "metadata": {},
   "outputs": [
    {
     "ename": "",
     "evalue": "",
     "output_type": "error",
     "traceback": [
      "\u001b[1;31mRunning cells with 'c:\\Python311\\python.exe' requires the ipykernel package.\n",
      "\u001b[1;31mRun the following command to install 'ipykernel' into the Python environment. \n",
      "\u001b[1;31mCommand: 'c:/Python311/python.exe -m pip install ipykernel -U --user --force-reinstall'"
     ]
    }
   ],
   "source": [
    "def to_array(matrix):\n",
    "    arr = []\n",
    "\n",
    "    for i in range(9): \n",
    "        arr += matrix[i]\n",
    "    \n",
    "    return arr"
   ]
  },
  {
   "cell_type": "code",
   "execution_count": null,
   "metadata": {},
   "outputs": [
    {
     "ename": "",
     "evalue": "",
     "output_type": "error",
     "traceback": [
      "\u001b[1;31mRunning cells with 'c:\\Python311\\python.exe' requires the ipykernel package.\n",
      "\u001b[1;31mRun the following command to install 'ipykernel' into the Python environment. \n",
      "\u001b[1;31mCommand: 'c:/Python311/python.exe -m pip install ipykernel -U --user --force-reinstall'"
     ]
    }
   ],
   "source": [
    "def check_row(ix, x):\n",
    "    fr, sd = None, None\n",
    "    for i in range(9):\n",
    "        for j in range(9):\n",
    "            if x[i] == x[j] and i != j:\n",
    "                fr, sd = min(i, j), max(i, j)\n",
    "                break\n",
    "    \n",
    "    return ix, fr, sd"
   ]
  },
  {
   "cell_type": "code",
   "execution_count": null,
   "metadata": {},
   "outputs": [
    {
     "ename": "",
     "evalue": "",
     "output_type": "error",
     "traceback": [
      "\u001b[1;31mRunning cells with 'c:\\Python311\\python.exe' requires the ipykernel package.\n",
      "\u001b[1;31mRun the following command to install 'ipykernel' into the Python environment. \n",
      "\u001b[1;31mCommand: 'c:/Python311/python.exe -m pip install ipykernel -U --user --force-reinstall'"
     ]
    }
   ],
   "source": [
    "def transform_arr(ix, fr, sd):\n",
    "    fr_ix = ix * 9 + fr\n",
    "    sd_ix = ix * 9 + sd\n",
    "    \n",
    "    return fr_ix, sd_ix"
   ]
  },
  {
   "cell_type": "code",
   "execution_count": null,
   "metadata": {},
   "outputs": [
    {
     "ename": "",
     "evalue": "",
     "output_type": "error",
     "traceback": [
      "\u001b[1;31mRunning cells with 'c:\\Python311\\python.exe' requires the ipykernel package.\n",
      "\u001b[1;31mRun the following command to install 'ipykernel' into the Python environment. \n",
      "\u001b[1;31mCommand: 'c:/Python311/python.exe -m pip install ipykernel -U --user --force-reinstall'"
     ]
    }
   ],
   "source": [
    "def is_valid_sudoku(x):\n",
    "    fr_ix, sd_ix = [], []\n",
    "\n",
    "    for i in range(9):\n",
    "        ix, fr, sd = check_row(i, matrix[i])\n",
    "        if fr != None:\n",
    "            a, b = transform_arr(ix, fr, sd)\n",
    "            fr_ix.append(a), sd_ix.append(b)\n",
    "    \n",
    "    return fr_ix, sd_ix\n",
    "\n",
    "is_valid_sudoku(matrix)"
   ]
  },
  {
   "cell_type": "code",
   "execution_count": null,
   "metadata": {},
   "outputs": [
    {
     "ename": "",
     "evalue": "",
     "output_type": "error",
     "traceback": [
      "\u001b[1;31mRunning cells with 'c:\\Python311\\python.exe' requires the ipykernel package.\n",
      "\u001b[1;31mRun the following command to install 'ipykernel' into the Python environment. \n",
      "\u001b[1;31mCommand: 'c:/Python311/python.exe -m pip install ipykernel -U --user --force-reinstall'"
     ]
    }
   ],
   "source": [
    "matrix = [[6, 2, 2, 5, 3, 9, 1, 8, 7],\n",
    "          [6, 1, 9, 7, 2, 8, 6, 3, 4],\n",
    "          [8, 3, 7, 6, 1, 4, 2, 9, 5],\n",
    "          [1, 4, 3, 8, 6, 5, 7, 2, 9],\n",
    "          [9, 5, 8, 2, 4, 7, 3, 6, 1],\n",
    "          [7, 6, 2, 3, 9, 1, 4, 5, 8],\n",
    "          [3, 7, 1, 9, 5, 6, 8, 4, 2],\n",
    "          [4, 9, 6, 1, 8, 2, 5, 7, 3],\n",
    "          [2, 8, 5, 4, 7, 3, 9, 1, 6]]\n",
    "\n",
    "\n",
    "def to_array(matrix):\n",
    "    arr = []\n",
    "\n",
    "    for i in range(9): \n",
    "        arr += matrix[i]\n",
    "    \n",
    "    return arr\n",
    "\n",
    "arr = to_array(matrix)\n",
    "\n",
    "\n",
    "def check_row(ix, x):\n",
    "    fr, sd = None, None\n",
    "    for i in range(9):\n",
    "        for j in range(9):\n",
    "            if x[i] == x[j] and i != j:\n",
    "                fr, sd = min(i, j), max(i, j)\n",
    "                break\n",
    "    \n",
    "    return ix, fr, sd\n",
    "\n",
    "\n",
    "def transform_arr(ix, fr, sd):\n",
    "    fr_ix = ix * 9 + fr\n",
    "    sd_ix = ix * 9 + sd\n",
    "    \n",
    "    return fr_ix, sd_ix\n",
    "\n",
    "\n",
    "def is_valid_sudoku(matrix):\n",
    "    dupplicates = []\n",
    "\n",
    "    for i in range(9):\n",
    "        ix, fr, sd = check_row(i, matrix[i])\n",
    "        if fr != None:\n",
    "            a, b = transform_arr(ix, fr, sd)\n",
    "            dupplicates.append(a), dupplicates.append(b)\n",
    "    \n",
    "    return dupplicates"
   ]
  },
  {
   "cell_type": "code",
   "execution_count": null,
   "metadata": {},
   "outputs": [
    {
     "ename": "",
     "evalue": "",
     "output_type": "error",
     "traceback": [
      "\u001b[1;31mRunning cells with 'c:\\Python311\\python.exe' requires the ipykernel package.\n",
      "\u001b[1;31mRun the following command to install 'ipykernel' into the Python environment. \n",
      "\u001b[1;31mCommand: 'c:/Python311/python.exe -m pip install ipykernel -U --user --force-reinstall'"
     ]
    }
   ],
   "source": [
    "dupp = is_valid_sudoku(matrix)"
   ]
  },
  {
   "cell_type": "code",
   "execution_count": null,
   "metadata": {},
   "outputs": [
    {
     "ename": "",
     "evalue": "",
     "output_type": "error",
     "traceback": [
      "\u001b[1;31mRunning cells with 'c:\\Python311\\python.exe' requires the ipykernel package.\n",
      "\u001b[1;31mRun the following command to install 'ipykernel' into the Python environment. \n",
      "\u001b[1;31mCommand: 'c:/Python311/python.exe -m pip install ipykernel -U --user --force-reinstall'"
     ]
    }
   ],
   "source": [
    "dupp"
   ]
  },
  {
   "attachments": {},
   "cell_type": "markdown",
   "metadata": {},
   "source": [
    "At time 5: P1 executes a command to read from disk unit 3.\n",
    "At time 15: P5's time slice expires.\n",
    "At time 18: P7 executes a command to write to disk unit 3.\n",
    "At time 20: P3 executes a command to read from disk unit 2.\n",
    "At time 24: P5 executes a command to write to disk unit 3.\n",
    "At time 28: P5 is swapped out.\n",
    "At time 33: An interrupt occurs from disk unit 2: P3's read is complete.\n",
    "At time 36: An interrupt occurs from disk unit 3: P1's read is complete.\n",
    "At time 38: P8 terminates.\n",
    "At time 40: An interrupt occurs from disk unit 3: P5's write is complete.\n",
    "At time 44: P5 is swapped back in.\n",
    "At time 48: An interrupt occurs from disk unit 3: P7's write is complete."
   ]
  },
  {
   "cell_type": "code",
   "execution_count": null,
   "metadata": {},
   "outputs": [
    {
     "ename": "",
     "evalue": "",
     "output_type": "error",
     "traceback": [
      "\u001b[1;31mRunning cells with 'c:\\Python311\\python.exe' requires the ipykernel package.\n",
      "\u001b[1;31mRun the following command to install 'ipykernel' into the Python environment. \n",
      "\u001b[1;31mCommand: 'c:/Python311/python.exe -m pip install ipykernel -U --user --force-reinstall'"
     ]
    }
   ],
   "source": [
    "step = 1\n",
    "steps = 12\n",
    "\n",
    "commands = \"\"\n",
    "\n",
    "while(step <= steps):\n",
    "    commands += input() + '\\n'\n",
    "    step += 1\n",
    "\n",
    "print(commands)"
   ]
  }
 ],
 "metadata": {
  "kernelspec": {
   "display_name": "Python 3",
   "language": "python",
   "name": "python3"
  },
  "language_info": {
   "codemirror_mode": {
    "name": "ipython",
    "version": 3
   },
   "file_extension": ".py",
   "mimetype": "text/x-python",
   "name": "python",
   "nbconvert_exporter": "python",
   "pygments_lexer": "ipython3",
   "version": "3.11.2"
  },
  "orig_nbformat": 4
 },
 "nbformat": 4,
 "nbformat_minor": 2
}
