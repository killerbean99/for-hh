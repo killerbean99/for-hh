{
 "cells": [
  {
   "cell_type": "code",
   "execution_count": 250,
   "metadata": {},
   "outputs": [],
   "source": [
    "import pandas as pd\n",
    "import matplotlib.pyplot as plt"
   ]
  },
  {
   "cell_type": "code",
   "execution_count": 251,
   "metadata": {},
   "outputs": [],
   "source": [
    "def get_list(train_df):\n",
    "    any_list = train_df['word'].tolist()\n",
    "    return any_list"
   ]
  },
  {
   "cell_type": "code",
   "execution_count": 252,
   "metadata": {},
   "outputs": [],
   "source": [
    "train1_df = pd.read_csv('./csv/train1')\n",
    "train2_df = pd.read_csv('./csv/train2')\n",
    "train3_df = pd.read_csv('./csv/train3')\n",
    "train4_df = pd.read_csv('./csv/train4')\n",
    "train5_df = pd.read_csv('./csv/train5')\n",
    "train6_df = pd.read_csv('./csv/train6')\n",
    "\n",
    "class1_list = ['game', 'engine', 'mobile', 'games', \n",
    "               'Unity', '3D', 'game', 'engines', 'engine', \n",
    "               'Unity', 'mobile', 'games', 'Unity', 'UDK', \n",
    "               'levels', 'design', 'Torque', '2D3D']\n",
    "\n",
    "class2_list = ['climatic', 'ecological', 'state', 'environment', \n",
    "             'observations', 'state', 'air', 'pollution', \n",
    "             'state', 'atmospheric', 'carried', 'RSE', \n",
    "             'Kazhydromet', 'quality', 'dust', 'meter',\n",
    "             'pollution', 'control', 'Atmospheric', \n",
    "             'emissions', 'pollutants']\n",
    "\n",
    "class3_list = ['physical', 'processes', 'laboratory', 'physics',\n",
    "             'sections', 'real', 'experiments', 'physical',\n",
    "             'laboratories', 'general', 'Diffraction',\n",
    "             'electrons', 'Physical', 'experiment', 'speed',\n",
    "             'bullet', 'Determination', 'coefficient',\n",
    "             'Measurement', 'Verification', 'Malus',\n",
    "             'polarized', 'light', '3D', 'models']\n",
    "\n",
    "class4_list = ['using', 'controller', 'sensitivity',\n",
    "             'receiver', 'LoRa', 'technology']\n",
    "\n",
    "class5_list = ['create', 'software', 'user', 'interface', \n",
    "             'programming', 'language', 'complex', \n",
    "             'startype', 'network', 'mobile', \n",
    "             'communication', 'local', 'station', \n",
    "             'base', 'station', 'through', 'web', \n",
    "             'network', 'fragment', 'based', 'ARM', \n",
    "             'parameters', 'electronic', 'processing', \n",
    "             'devices', 'MIT', 'Media', 'LPWAN', \n",
    "             'IoT', 'applications', \n",
    "             'LPWAN', 'wireless', 'technologies']\n",
    "\n",
    "class6_list= ['teaching', 'physics', 'laboratory', \n",
    "            'works', 'academic', 'programs', \n",
    "            'physics', 'course', 'technical', \n",
    "            'academic', 'laboratory', 'work', \n",
    "            'educational', 'software', 'virtual', \n",
    "            'laboratories', 'Associate', 'professor', \n",
    "            'Mathematical', 'modelling', 'Phd', \n",
    "            'candidate', 'Data', 'analysis', \n",
    "            'Mathematics', 'School', 'good', \n",
    "            'example', 'computer-based', 'learning', \n",
    "            'learning', 'systems', 'secondary', \n",
    "            'schools', 'educational', 'institutions', \n",
    "            'learning', 'tools', 'learning', 'process', \n",
    "            'point', 'view', 'educational', 'process', \n",
    "            'medical', 'education', 'high', 'level', \n",
    "            'knowledge', 'teaching', 'methods', 'games']"
   ]
  },
  {
   "cell_type": "code",
   "execution_count": 253,
   "metadata": {},
   "outputs": [],
   "source": [
    "train1_words = get_list(train1_df)\n",
    "train2_words = get_list(train2_df)\n",
    "train3_words = get_list(train3_df)\n",
    "train4_words = get_list(train4_df)\n",
    "train5_words = get_list(train5_df)\n",
    "train6_words = get_list(train6_df)"
   ]
  },
  {
   "cell_type": "code",
   "execution_count": 254,
   "metadata": {},
   "outputs": [],
   "source": [
    "def result(train_words):\n",
    "    class1_count = 0\n",
    "    class2_count = 0\n",
    "    class3_count = 0\n",
    "    class4_count = 0\n",
    "    class5_count = 0\n",
    "    class6_count = 0\n",
    "    \n",
    "\n",
    "    for word in train_words:\n",
    "        if word in class1_list:\n",
    "            class1_count += 1\n",
    "        elif word in class2_list:\n",
    "            class2_count += 1\n",
    "        elif word in class3_list:\n",
    "            class3_count += 1\n",
    "        elif word in class4_list:\n",
    "            class4_count += 1\n",
    "        elif word in class5_list:\n",
    "            class5_count += 1\n",
    "        elif word in class6_list:\n",
    "            class6_count += 1\n",
    "    \n",
    "    class1_count = class1_count / len(class1_list)\n",
    "    class2_count = class2_count / len(class2_list)\n",
    "    class3_count = class3_count / len(class3_list)\n",
    "    class4_count = class4_count / len(class4_list)\n",
    "    class5_count = class5_count / len(class5_list)\n",
    "    class6_count = class6_count / len(class6_list)\n",
    "    max_class = max(class1_count, class2_count, class3_count, class4_count, class5_count, class6_count)\n",
    "\n",
    "    # print(class1_count, class2_count, class3_count, class4_count, class5_count, class6_count)\n",
    "    \n",
    "    print(\"\\nTags: \\n\")\n",
    "\n",
    "    if class1_count > 0.7:\n",
    "        print('game engine')\n",
    "    if class2_count > 1.5:\n",
    "        print('environment')\n",
    "    if class3_count > 1.5:\n",
    "        print('physics')\n",
    "    if class4_count > 5:\n",
    "        print('robotics')\n",
    "    if class5_count > 3:\n",
    "        print('IT')\n",
    "    if class6_count > 1.5:\n",
    "        print('education')"
   ]
  },
  {
   "cell_type": "code",
   "execution_count": 255,
   "metadata": {},
   "outputs": [],
   "source": [
    "def to_csv(any_list, filename, type):\n",
    "    df = pd.DataFrame(any_list, columns=['word'])\n",
    "    df['type'] = type\n",
    "    df.to_csv(filename)\n",
    "\n",
    "    return df\n",
    "    "
   ]
  },
  {
   "cell_type": "code",
   "execution_count": 256,
   "metadata": {},
   "outputs": [],
   "source": [
    "game_engine_df = to_csv(class1_list, './csv/class1', 'Game Engine')\n",
    "environment_df = to_csv(class2_list, './csv/class2', 'Environment')\n",
    "physics_df = to_csv(class3_list, './csv/class3', 'Physics')\n",
    "robotics_df = to_csv(class4_list, './csv/class4', 'Robotics')\n",
    "IT_df = to_csv(class5_list, './csv/class5', 'IT')\n",
    "education_df = to_csv(class6_list, './csv/class6', 'Education')\n"
   ]
  },
  {
   "cell_type": "code",
   "execution_count": 257,
   "metadata": {},
   "outputs": [],
   "source": [
    "def circle_df(df):\n",
    "    is_in_ge = df['word'].isin(game_engine_df['word'])\n",
    "    is_in_env = df['word'].isin(environment_df['word'])\n",
    "    is_in_ph = df['word'].isin(physics_df['word'])\n",
    "    is_in_rb = df['word'].isin(robotics_df['word'])\n",
    "    is_in_it = df['word'].isin(IT_df['word'])\n",
    "    is_in_edu = df['word'].isin(education_df['word'])\n",
    "\n",
    "    if (is_in_ge == True).any():\n",
    "        df.loc[is_in_ge, 'type'] = game_engine_df['type']\n",
    "    if (is_in_env == True).any():\n",
    "        df.loc[is_in_env, 'type'] = environment_df['type']\n",
    "    if (is_in_ph == True).any():\n",
    "        df.loc[is_in_ph, 'type'] = physics_df['type']\n",
    "    if (is_in_rb == True).any():\n",
    "        df.loc[is_in_rb, 'type'] = robotics_df['type']\n",
    "    if (is_in_it == True).any():\n",
    "        df.loc[is_in_it, 'type'] = IT_df['type']\n",
    "    if (is_in_edu == True).any():\n",
    "        df.loc[is_in_edu, 'type'] = education_df['type']\n",
    "        \n",
    "    type_counts = df['type'].value_counts()\n",
    "    type_counts.plot.pie(figsize=(5, 5))\n",
    "    return plt.show()"
   ]
  },
  {
   "cell_type": "code",
   "execution_count": 258,
   "metadata": {},
   "outputs": [
    {
     "data": {
      "image/png": "[encoded data removed]",
      "text/plain": [
       "<Figure size 360x360 with 1 Axes>"
      ]
     },
     "metadata": {},
     "output_type": "display_data"
    }
   ],
   "source": [
    "circle_df(train1_df)"
   ]
  },
  {
   "cell_type": "code",
   "execution_count": 259,
   "metadata": {},
   "outputs": [
    {
     "name": "stdout",
     "output_type": "stream",
     "text": [
      "\n",
      "Tags: \n",
      "\n",
      "physics\n",
      "robotics\n",
      "IT\n",
      "education\n"
     ]
    }
   ],
   "source": [
    "result(train1_words)"
   ]
  },
  {
   "attachments": {},
   "cell_type": "markdown",
   "metadata": {},
   "source": [
    "## _______________________________________________________________________"
   ]
  },
  {
   "cell_type": "code",
   "execution_count": 260,
   "metadata": {},
   "outputs": [
    {
     "data": {
      "image/png": "[encoded data removed]",
      "text/plain": [
       "<Figure size 360x360 with 1 Axes>"
      ]
     },
     "metadata": {},
     "output_type": "display_data"
    }
   ],
   "source": [
    "circle_df(train2_df)"
   ]
  },
  {
   "cell_type": "code",
   "execution_count": 261,
   "metadata": {},
   "outputs": [
    {
     "name": "stdout",
     "output_type": "stream",
     "text": [
      "\n",
      "Tags: \n",
      "\n",
      "game engine\n",
      "education\n"
     ]
    }
   ],
   "source": [
    "result(train2_words)"
   ]
  },
  {
   "attachments": {},
   "cell_type": "markdown",
   "metadata": {},
   "source": [
    "## _______________________________________________________________________"
   ]
  },
  {
   "cell_type": "code",
   "execution_count": 262,
   "metadata": {},
   "outputs": [
    {
     "data": {
      "image/png": "[encoded data removed]",
      "text/plain": [
       "<Figure size 360x360 with 1 Axes>"
      ]
     },
     "metadata": {},
     "output_type": "display_data"
    }
   ],
   "source": [
    "circle_df(train3_df)"
   ]
  },
  {
   "cell_type": "code",
   "execution_count": 263,
   "metadata": {},
   "outputs": [
    {
     "name": "stdout",
     "output_type": "stream",
     "text": [
      "\n",
      "Tags: \n",
      "\n",
      "game engine\n",
      "physics\n",
      "robotics\n",
      "education\n"
     ]
    }
   ],
   "source": [
    "result(train3_words)"
   ]
  },
  {
   "attachments": {},
   "cell_type": "markdown",
   "metadata": {},
   "source": [
    "## _______________________________________________________________________"
   ]
  },
  {
   "cell_type": "code",
   "execution_count": 264,
   "metadata": {},
   "outputs": [
    {
     "data": {
      "image/png": "[encoded data removed]",
      "text/plain": [
       "<Figure size 360x360 with 1 Axes>"
      ]
     },
     "metadata": {},
     "output_type": "display_data"
    }
   ],
   "source": [
    "circle_df(train4_df)"
   ]
  },
  {
   "cell_type": "code",
   "execution_count": 265,
   "metadata": {},
   "outputs": [
    {
     "name": "stdout",
     "output_type": "stream",
     "text": [
      "\n",
      "Tags: \n",
      "\n",
      "game engine\n",
      "physics\n",
      "robotics\n",
      "education\n"
     ]
    }
   ],
   "source": [
    "result(train4_words)"
   ]
  },
  {
   "attachments": {},
   "cell_type": "markdown",
   "metadata": {},
   "source": [
    "## _______________________________________________________________________"
   ]
  },
  {
   "cell_type": "code",
   "execution_count": 266,
   "metadata": {},
   "outputs": [
    {
     "data": {
      "image/png": "[encoded data removed]",
      "text/plain": [
       "<Figure size 360x360 with 1 Axes>"
      ]
     },
     "metadata": {},
     "output_type": "display_data"
    }
   ],
   "source": [
    "circle_df(train5_df)"
   ]
  },
  {
   "cell_type": "code",
   "execution_count": 267,
   "metadata": {},
   "outputs": [
    {
     "name": "stdout",
     "output_type": "stream",
     "text": [
      "\n",
      "Tags: \n",
      "\n",
      "environment\n",
      "robotics\n",
      "IT\n"
     ]
    }
   ],
   "source": [
    "result(train5_words)"
   ]
  },
  {
   "attachments": {},
   "cell_type": "markdown",
   "metadata": {},
   "source": [
    "## _______________________________________________________________________"
   ]
  },
  {
   "cell_type": "code",
   "execution_count": 268,
   "metadata": {},
   "outputs": [
    {
     "data": {
      "image/png": "[encoded data removed]",
      "text/plain": [
       "<Figure size 360x360 with 1 Axes>"
      ]
     },
     "metadata": {},
     "output_type": "display_data"
    }
   ],
   "source": [
    "circle_df(train6_df)"
   ]
  },
  {
   "cell_type": "code",
   "execution_count": 269,
   "metadata": {},
   "outputs": [
    {
     "name": "stdout",
     "output_type": "stream",
     "text": [
      "\n",
      "Tags: \n",
      "\n",
      "environment\n"
     ]
    }
   ],
   "source": [
    "result(train6_words)"
   ]
  }
 ],
 "metadata": {
  "kernelspec": {
   "display_name": "Python 3",
   "language": "python",
   "name": "python3"
  },
  "language_info": {
   "codemirror_mode": {
    "name": "ipython",
    "version": 3
   },
   "file_extension": ".py",
   "mimetype": "text/x-python",
   "name": "python",
   "nbconvert_exporter": "python",
   "pygments_lexer": "ipython3",
   "version": "3.10.0"
  },
  "orig_nbformat": 4,
  "vscode": {
   "interpreter": {
    "hash": "fcaaa2e39c35ecc5001cadf1314525f3ff006f3ae901308fe8b734a4c41a783a"
   }
  }
 },
 "nbformat": 4,
 "nbformat_minor": 2
}
