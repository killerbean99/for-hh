{
 "cells": [
  {
   "attachments": {},
   "cell_type": "markdown",
   "metadata": {},
   "source": [
    "## Import modules"
   ]
  },
  {
   "cell_type": "code",
   "execution_count": 1,
   "metadata": {},
   "outputs": [],
   "source": [
    "import pytesseract as pst\n",
    "import PIL.Image as pi\n",
    "import cv2\n",
    "from pytesseract import Output\n",
    "from wand.image import Image as wii\n",
    "from pdf2image import convert_from_path\n",
    "\n",
    "import numpy as np\n",
    "import pandas as pd\n",
    "import matplotlib.pyplot as plt\n",
    "\n",
    "import os\n",
    "import string\n",
    "import IPython.display as Ipd\n",
    "from glob import glob as gg\n",
    "from tqdm import tqdm"
   ]
  },
  {
   "attachments": {},
   "cell_type": "markdown",
   "metadata": {},
   "source": [
    "# Data preporition"
   ]
  },
  {
   "attachments": {},
   "cell_type": "markdown",
   "metadata": {},
   "source": [
    "                           done                                          result            to do\n",
    " ___________________________/\\________________________________      _______/\\_______      ___/\\___\n",
    "/                                                             \\    /                \\    /        \\\n",
    "PDF -> PNG -> text -> (removing_stopwords, removing_puntuation) -> statistical result -> withing ML\n",
    "            ^       \n",
    "       PyTesseract"
   ]
  },
  {
   "attachments": {},
   "cell_type": "markdown",
   "metadata": {},
   "source": [
    "### Converting PDF to PNG"
   ]
  },
  {
   "cell_type": "code",
   "execution_count": 2,
   "metadata": {},
   "outputs": [],
   "source": [
    "# POPPLER_PATH = r\"C:\\Users\\Elara\\Downloads\\Release-23.01.0-0\\poppler-23.01.0\\Library\\bin\"\n",
    "# SAVING_FOLDER = \"./png/\"\n",
    "# PDF_FILES = gg('./pdf/*.pdf')\n",
    "\n",
    "# i = 1\n",
    "# for file in PDF_FILES:\n",
    "#     pages = convert_from_path(pdf_path = file, poppler_path = POPPLER_PATH)\n",
    "\n",
    "#     j = 1\n",
    "#     for page in pages:\n",
    "#         img_name = f\"Doc-{i}_Img-{j}.png\"\n",
    "#         page.save(os.path.join(SAVING_FOLDER, img_name), \"PNG\")\n",
    "#         j += 1\n",
    "#     i += 1"
   ]
  },
  {
   "attachments": {},
   "cell_type": "markdown",
   "metadata": {},
   "source": [
    "### Returning text from image"
   ]
  },
  {
   "cell_type": "code",
   "execution_count": 3,
   "metadata": {},
   "outputs": [],
   "source": [
    "# Text recognition configuration\n",
    "MY_CONFIG = r\"--psm 3 --oem 3 -l eng\" # --psm 3, 6 \n",
    "PNG_FILES = gg('./png/*.png')\n",
    "\n",
    "# Files that we use\n",
    "test_files_ix = [2, 7, 9]"
   ]
  },
  {
   "cell_type": "code",
   "execution_count": 4,
   "metadata": {},
   "outputs": [],
   "source": [
    "def doc_ix(file):\n",
    "    return int(str(file)[10])\n",
    "\n",
    "def img_ix(file):\n",
    "    if str(file)[17] == '.':\n",
    "        return int(str(file)[16])\n",
    "    else:\n",
    "        return int(str(file)[16:18])"
   ]
  },
  {
   "cell_type": "code",
   "execution_count": 73,
   "metadata": {},
   "outputs": [],
   "source": [
    "text_list_doc1 = []\n",
    "text_list_doc2 = []\n",
    "text_list_doc3 = []\n",
    "\n",
    "train_text1 = []\n",
    "train_text2 = []\n",
    "train_text3 = []\n",
    "train_text4 = []\n",
    "train_text5 = []\n",
    "train_text6 = []"
   ]
  },
  {
   "cell_type": "code",
   "execution_count": 74,
   "metadata": {},
   "outputs": [],
   "source": [
    "for file in PNG_FILES:\n",
    "    if (doc_ix(file) in test_files_ix):\n",
    "        test_text = pst.image_to_string(pi.open(file), config = MY_CONFIG)\n",
    "        if doc_ix(file) == test_files_ix[0] and img_ix(file) >= 4:\n",
    "            text_list_doc1 += test_text.split()\n",
    "        elif doc_ix(file) == test_files_ix[1] and img_ix(file) >= 20:\n",
    "            text_list_doc2 += test_text.split()\n",
    "        elif doc_ix(file) == test_files_ix[2] and (img_ix(file) >= 6 and img_ix(file) <= 14):\n",
    "            text_list_doc3 += test_text.split()\n",
    "    else:\n",
    "        train_text = pst.image_to_string(pi.open(file), config = MY_CONFIG)\n",
    "        if doc_ix(file) == 1 and img_ix(file) <= 18:\n",
    "            train_text1 += train_text.split()\n",
    "        elif doc_ix(file) == 3:\n",
    "            train_text2 += train_text.split()\n",
    "        elif doc_ix(file) == 4 and (img_ix(file) == 6 or img_ix(file) == 7 or (img_ix(file) >= 12 and img_ix(file) <= 14) or img_ix(file) >= 23):\n",
    "            train_text3 += train_text.split()\n",
    "        elif doc_ix(file) == 5 and img_ix(file) >= 6:\n",
    "            train_text4 += train_text.split()\n",
    "        elif doc_ix(file) == 6:\n",
    "            train_text5 += train_text.split()\n",
    "        elif doc_ix(file) == 8 and img_ix(file) >= 9:\n",
    "            train_text6 += train_text.split()"
   ]
  },
  {
   "cell_type": "code",
   "execution_count": 7,
   "metadata": {},
   "outputs": [],
   "source": [
    "to_remove = ['IEEE', 'International', 'Conference', 'Communication', 'technologies', 'Almaty', 'Oct', 'Kazakhstan']\n",
    "text_list_doc1 = [item for item in text_list_doc1 if item not in to_remove]"
   ]
  },
  {
   "cell_type": "code",
   "execution_count": 8,
   "metadata": {},
   "outputs": [
    {
     "data": {
      "text/plain": [
       "9979"
      ]
     },
     "execution_count": 8,
     "metadata": {},
     "output_type": "execute_result"
    }
   ],
   "source": [
    "origin_text_elements = len(text_list_doc1) + len(text_list_doc2) + len(text_list_doc3)\n",
    "origin_text_elements"
   ]
  },
  {
   "cell_type": "code",
   "execution_count": 9,
   "metadata": {},
   "outputs": [
    {
     "data": {
      "text/plain": [
       "30825"
      ]
     },
     "execution_count": 9,
     "metadata": {},
     "output_type": "execute_result"
    }
   ],
   "source": [
    "origin_train_elements = len(train_text1) + len(train_text2) + len(train_text3) + len(train_text4) + len(train_text5) + len(train_text6)\n",
    "origin_train_elements"
   ]
  },
  {
   "attachments": {},
   "cell_type": "markdown",
   "metadata": {},
   "source": [
    "## Fuctions"
   ]
  },
  {
   "attachments": {},
   "cell_type": "markdown",
   "metadata": {},
   "source": [
    "### Drop Punctuation and Save words in Uppercase"
   ]
  },
  {
   "cell_type": "code",
   "execution_count": 10,
   "metadata": {},
   "outputs": [],
   "source": [
    "lowercases1 = []\n",
    "lowercases2 = []\n",
    "lowercases3 = []\n",
    "\n",
    "uppercases1 = []\n",
    "uppercases2 = []\n",
    "uppercases3 = []\n",
    "\n",
    "names1 = []\n",
    "names2 = []\n",
    "names3 = []"
   ]
  },
  {
   "cell_type": "code",
   "execution_count": 11,
   "metadata": {},
   "outputs": [],
   "source": [
    "def drop_punctuation(text_list):\n",
    "    lowercases = []\n",
    "    uppercases = []\n",
    "    names = []\n",
    "\n",
    "    for word in list(text_list):\n",
    "        str_word = str(word).translate(str.maketrans('', '', string.punctuation))\n",
    "        \n",
    "        if str_word.isupper() and len(str_word) > 1:\n",
    "            uppercases.append(str_word)\n",
    "\n",
    "        elif str_word.islower() and len(str_word) > 1:\n",
    "            lowercases.append(str_word)\n",
    "        \n",
    "        elif len(str_word) > 1 and ord(str_word[0]) <= 90 and ord(str_word[1]) >= 97:\n",
    "            names.append(str_word)\n",
    "        \n",
    "    for word_str in names:\n",
    "        if word_str.lower() in lowercases:\n",
    "            names.remove(word_str)\n",
    "    \n",
    "    for word_str in uppercases:\n",
    "        if word_str.lower() in lowercases:\n",
    "            uppercases.remove(word_str)\n",
    "    \n",
    "    doc = lowercases + uppercases + names\n",
    "    \n",
    "    return doc, lowercases, uppercases, names"
   ]
  },
  {
   "cell_type": "code",
   "execution_count": 12,
   "metadata": {},
   "outputs": [],
   "source": [
    "text_list_doc1, lowercases1, uppercases1, names1 = drop_punctuation(text_list_doc1)\n",
    "text_list_doc2, lowercases2, uppercases2, names2 = drop_punctuation(text_list_doc2)\n",
    "text_list_doc3, lowercases3, uppercases3, names3 = drop_punctuation(text_list_doc3)"
   ]
  },
  {
   "cell_type": "code",
   "execution_count": 75,
   "metadata": {},
   "outputs": [],
   "source": [
    "train_text1, train_lowers1, train_uppers1, train_names1  = drop_punctuation(train_text1)\n",
    "train_text2, train_lowers2, train_uppers2, train_names2  = drop_punctuation(train_text2)\n",
    "train_text3, train_lowers3, train_uppers3, train_names3  = drop_punctuation(train_text3)\n",
    "train_text4, train_lowers4, train_uppers4, train_names4  = drop_punctuation(train_text4)\n",
    "train_text5, train_lowers5, train_uppers5, train_names5  = drop_punctuation(train_text5)\n",
    "train_text6, train_lowers6, train_uppers6, train_names6  = drop_punctuation(train_text6)"
   ]
  },
  {
   "attachments": {},
   "cell_type": "markdown",
   "metadata": {},
   "source": [
    "### Drop non word"
   ]
  },
  {
   "cell_type": "code",
   "execution_count": 14,
   "metadata": {},
   "outputs": [],
   "source": [
    "stop_words = ['the', 'of', 'and', 'in', 'to', 'for', 'is',\n",
    "              'as', 'with', 'on', 'are', 'this', 'that', 'it', \n",
    "              'by', 'an', 'be', 'was', 'has', 'such', 'from',\n",
    "              'he', 'all', 'use', 'new', 'its', 'which', 'their',\n",
    "              'can', 'at', 'where', 'when', 'not', 'if', 'there',\n",
    "              'or', 'you', 'they', 'each', 'have', 'them', 'these',\n",
    "              'out', 'then', 'etc', 'time', 'also', 'we', 'thus',\n",
    "              'about', 'should', 'lets', 'will']"
   ]
  },
  {
   "cell_type": "code",
   "execution_count": 15,
   "metadata": {},
   "outputs": [],
   "source": [
    "def drop_non_word(text_list):\n",
    "    new_list = []\n",
    "\n",
    "    for word in list(text_list):\n",
    "        if word.isalpha() and word.lower() not in stop_words and len(word) > 1:\n",
    "            new_list.append(word)\n",
    "            \n",
    "    return new_list"
   ]
  },
  {
   "cell_type": "code",
   "execution_count": 16,
   "metadata": {},
   "outputs": [],
   "source": [
    "text_list_doc1 = drop_non_word(text_list_doc1)\n",
    "text_list_doc2 = drop_non_word(text_list_doc2)\n",
    "text_list_doc3 = drop_non_word(text_list_doc3)"
   ]
  },
  {
   "cell_type": "code",
   "execution_count": 76,
   "metadata": {},
   "outputs": [],
   "source": [
    "train_text1 = drop_non_word(train_text1)\n",
    "train_text2 = drop_non_word(train_text2)\n",
    "train_text3 = drop_non_word(train_text3)\n",
    "train_text4 = drop_non_word(train_text4)\n",
    "train_text5 = drop_non_word(train_text5)\n",
    "train_text6 = drop_non_word(train_text6)"
   ]
  },
  {
   "attachments": {},
   "cell_type": "markdown",
   "metadata": {},
   "source": [
    "### Drop duplicates"
   ]
  },
  {
   "cell_type": "code",
   "execution_count": 18,
   "metadata": {},
   "outputs": [],
   "source": [
    "def drop_duplicates(any_list):\n",
    "    without_dpt = [*set(any_list)]\n",
    "    without_dpt.sort()\n",
    "    return without_dpt"
   ]
  },
  {
   "cell_type": "code",
   "execution_count": 19,
   "metadata": {},
   "outputs": [],
   "source": [
    "without_dpt_doc1 = drop_duplicates(text_list_doc1)\n",
    "without_dpt_doc2 = drop_duplicates(text_list_doc2)\n",
    "without_dpt_doc3 = drop_duplicates(text_list_doc3)"
   ]
  },
  {
   "cell_type": "code",
   "execution_count": 20,
   "metadata": {},
   "outputs": [
    {
     "data": {
      "text/plain": [
       "2699"
      ]
     },
     "execution_count": 20,
     "metadata": {},
     "output_type": "execute_result"
    }
   ],
   "source": [
    "len(without_dpt_doc1) + len(without_dpt_doc2) + len(without_dpt_doc3)"
   ]
  },
  {
   "cell_type": "code",
   "execution_count": 21,
   "metadata": {},
   "outputs": [],
   "source": [
    "def word_counts(any_list, filename):\n",
    "    df = pd.DataFrame(any_list)\n",
    "    df.to_csv(filename, encoding='utf-8')"
   ]
  },
  {
   "cell_type": "code",
   "execution_count": 22,
   "metadata": {},
   "outputs": [],
   "source": [
    "def word_unique(any_list, filename):\n",
    "    df = pd.DataFrame(any_list, columns=['word'])\n",
    "    df.to_csv(filename, encoding='utf-8')"
   ]
  },
  {
   "cell_type": "code",
   "execution_count": 23,
   "metadata": {},
   "outputs": [],
   "source": [
    "word_counts(text_list_doc1, './csv/count_of_words_doc1')\n",
    "\n",
    "word_counts(text_list_doc2, './csv/count_of_words_doc2')\n",
    "\n",
    "word_counts(text_list_doc3, './csv/count_of_words_doc3')"
   ]
  },
  {
   "cell_type": "code",
   "execution_count": 24,
   "metadata": {},
   "outputs": [],
   "source": [
    "all_text = text_list_doc1 + text_list_doc2 + text_list_doc3\n",
    "without_dpt_all = without_dpt_doc1 + without_dpt_doc2 + without_dpt_doc3\n",
    "\n",
    "without_dpt_all = drop_duplicates(all_text)\n",
    "\n",
    "word_counts(all_text, './csv/count_of_all_words')"
   ]
  },
  {
   "cell_type": "code",
   "execution_count": 25,
   "metadata": {},
   "outputs": [
    {
     "data": {
      "text/plain": [
       "2103"
      ]
     },
     "execution_count": 25,
     "metadata": {},
     "output_type": "execute_result"
    }
   ],
   "source": [
    "len(without_dpt_all)"
   ]
  },
  {
   "cell_type": "code",
   "execution_count": 26,
   "metadata": {},
   "outputs": [],
   "source": [
    "def to_unique(this_list, list1, list2):\n",
    "    new_list = []\n",
    "\n",
    "    for word in list(this_list):\n",
    "        if word not in list1 and word not in list2:\n",
    "            new_list.append(word)\n",
    "    \n",
    "    return new_list"
   ]
  },
  {
   "cell_type": "code",
   "execution_count": 27,
   "metadata": {},
   "outputs": [],
   "source": [
    "unique_doc1 = to_unique(without_dpt_doc1, without_dpt_doc2, without_dpt_doc3)\n",
    "unique_doc2 = to_unique(without_dpt_doc2, without_dpt_doc1, without_dpt_doc3)\n",
    "unique_doc3 = to_unique(without_dpt_doc3, without_dpt_doc2, without_dpt_doc1)"
   ]
  },
  {
   "cell_type": "code",
   "execution_count": 28,
   "metadata": {},
   "outputs": [],
   "source": [
    "word_unique(unique_doc1, './csv/unique_of_words_doc1')\n",
    "\n",
    "word_unique(unique_doc2, './csv/unique_of_words_doc2')\n",
    "\n",
    "word_unique(unique_doc3, './csv/unique_of_words_doc3')"
   ]
  },
  {
   "cell_type": "code",
   "execution_count": 29,
   "metadata": {},
   "outputs": [],
   "source": [
    "def conjunction(list1, list2, list3):\n",
    "    new_list = []\n",
    "    \n",
    "    for word in list(list1):\n",
    "        if word in list2 and word in list3:\n",
    "            new_list.append(word)\n",
    "\n",
    "    return new_list"
   ]
  },
  {
   "cell_type": "code",
   "execution_count": 30,
   "metadata": {},
   "outputs": [],
   "source": [
    "conj_of_all = conjunction(without_dpt_doc1, without_dpt_doc2, without_dpt_doc3)"
   ]
  },
  {
   "cell_type": "code",
   "execution_count": 31,
   "metadata": {},
   "outputs": [],
   "source": [
    "word_unique(conj_of_all, './csv/conj')"
   ]
  },
  {
   "cell_type": "code",
   "execution_count": 32,
   "metadata": {},
   "outputs": [],
   "source": [
    "def uniq_word_counts(x):\n",
    "    return all_text.count(x)"
   ]
  },
  {
   "cell_type": "code",
   "execution_count": 33,
   "metadata": {},
   "outputs": [],
   "source": [
    "def combine_lists(list1, list2):\n",
    "    return list(map(list, zip(list1, list2)))"
   ]
  },
  {
   "cell_type": "code",
   "execution_count": 34,
   "metadata": {},
   "outputs": [],
   "source": [
    "def check_count(any_list, type):\n",
    "    count_list = map(uniq_word_counts, any_list)\n",
    "    count_list = list(count_list)\n",
    "    count_list = combine_lists(any_list, count_list)\n",
    "    count_list.sort(key=lambda x: x[1], reverse=True)\n",
    "    df = pd.DataFrame(count_list, columns=['word', 'count'])\n",
    "    df['type'] = type\n",
    "    return df"
   ]
  },
  {
   "cell_type": "code",
   "execution_count": 35,
   "metadata": {},
   "outputs": [],
   "source": [
    "conj_df = check_count(conj_of_all, 'IT')\n",
    "uniq_doc1_df = check_count(unique_doc1, 'edu')\n",
    "uniq_doc2_df = check_count(unique_doc2, 'eco')\n",
    "uniq_doc3_df = check_count(unique_doc3, 'VR')"
   ]
  },
  {
   "cell_type": "code",
   "execution_count": 36,
   "metadata": {},
   "outputs": [],
   "source": [
    "df = pd.concat([uniq_doc1_df, uniq_doc2_df, uniq_doc3_df, conj_df]).sort_values('count', ascending=False).reset_index(drop=True)"
   ]
  },
  {
   "cell_type": "code",
   "execution_count": 37,
   "metadata": {},
   "outputs": [],
   "source": [
    "df.to_csv('./csv/classes')"
   ]
  },
  {
   "cell_type": "code",
   "execution_count": 38,
   "metadata": {},
   "outputs": [],
   "source": [
    "all_train_text = train_text1 + train_text2 + train_text3 + train_text4 + train_text5 + train_text6"
   ]
  },
  {
   "cell_type": "code",
   "execution_count": 39,
   "metadata": {},
   "outputs": [],
   "source": [
    "def uniq_word1(x):\n",
    "    return train_text1.count(x)\n",
    "def uniq_word2(x):\n",
    "    return train_text2.count(x)\n",
    "def uniq_word3(x):\n",
    "    return train_text3.count(x)\n",
    "def uniq_word4(x):\n",
    "    return train_text4.count(x)\n",
    "def uniq_word5(x):\n",
    "    return train_text5.count(x)\n",
    "def uniq_word6(x):\n",
    "    return train_text6.count(x)"
   ]
  },
  {
   "cell_type": "code",
   "execution_count": 40,
   "metadata": {},
   "outputs": [],
   "source": [
    "def create_df(any_list, my_def):\n",
    "    count_list = map(my_def, any_list)\n",
    "    count_list = list(count_list)\n",
    "    count_list = combine_lists(any_list, count_list)\n",
    "    count_list.sort(key=lambda x: x[1], reverse=True)\n",
    "    df = pd.DataFrame(count_list, columns=['word', 'count'])\n",
    "    df['type'] = None\n",
    "    return df"
   ]
  },
  {
   "cell_type": "code",
   "execution_count": 77,
   "metadata": {},
   "outputs": [],
   "source": [
    "def create_df(any_list):\n",
    "    df = pd.DataFrame(any_list, columns=['word'])\n",
    "    df['type'] = None\n",
    "    return df"
   ]
  },
  {
   "cell_type": "code",
   "execution_count": 78,
   "metadata": {},
   "outputs": [],
   "source": [
    "train1_df = create_df(train_text1)\n",
    "train2_df = create_df(train_text2)\n",
    "train3_df = create_df(train_text3)\n",
    "train4_df = create_df(train_text4)\n",
    "train5_df = create_df(train_text5)\n",
    "train6_df = create_df(train_text6)"
   ]
  },
  {
   "cell_type": "code",
   "execution_count": 70,
   "metadata": {},
   "outputs": [],
   "source": [
    "train1_df.to_csv('./csv/train1', encoding='utf-8')\n",
    "train2_df.to_csv('./csv/train2', encoding='utf-8')\n",
    "train3_df.to_csv('./csv/train3', encoding='utf-8')\n",
    "train4_df.to_csv('./csv/train4', encoding='utf-8')\n",
    "train5_df.to_csv('./csv/train5', encoding='utf-8')\n",
    "train6_df.to_csv('./csv/train6', encoding='utf-8')"
   ]
  },
  {
   "cell_type": "code",
   "execution_count": 44,
   "metadata": {},
   "outputs": [],
   "source": [
    "def get_list(train_df):\n",
    "    any_list = train_df['word'].tolist()\n",
    "    return any_list"
   ]
  },
  {
   "cell_type": "code",
   "execution_count": 45,
   "metadata": {},
   "outputs": [],
   "source": [
    "df = pd.read_csv('./csv/classes')\n",
    "\n",
    "df_class1 = pd.read_csv('./csv/unique_of_words_doc1')\n",
    "class1_list = get_list(df_class1)\n",
    "\n",
    "df_class2 = pd.read_csv('./csv/unique_of_words_doc2')\n",
    "class2_list = get_list(df_class2)\n",
    "\n",
    "df_class3 = pd.read_csv('./csv/unique_of_words_doc3')\n",
    "class3_list = get_list(df_class3)"
   ]
  },
  {
   "cell_type": "code",
   "execution_count": 46,
   "metadata": {},
   "outputs": [],
   "source": [
    "train1_words = get_list(train1_df)\n",
    "train2_words = get_list(train2_df)\n",
    "train3_words = get_list(train3_df)\n",
    "train4_words = get_list(train4_df)\n",
    "train5_words = get_list(train5_df)\n",
    "train6_words = get_list(train6_df)"
   ]
  },
  {
   "cell_type": "code",
   "execution_count": 47,
   "metadata": {},
   "outputs": [],
   "source": [
    "def result(train_words):\n",
    "    class1_count = 0\n",
    "    class2_count = 0\n",
    "    class3_count = 0\n",
    "\n",
    "    for word in train_words:\n",
    "        if word in class1_list:\n",
    "            class1_count += 1\n",
    "        elif word in class2_list:\n",
    "            class2_count += 1\n",
    "        elif word in class3_list:\n",
    "            class3_count += 1\n",
    "    \n",
    "    class1_count = class1_count / len(class1_list)\n",
    "    class2_count = class2_count / len(class2_list)\n",
    "    class3_count = class3_count / len(class3_list)\n",
    "\n",
    "    max_class = max(class1_count, class2_count, class3_count)\n",
    "\n",
    "    if class1_count == max_class:\n",
    "        return 'edu'\n",
    "    elif class2_count == max_class:\n",
    "        return 'eco'\n",
    "    else:\n",
    "        return 'VR'"
   ]
  },
  {
   "cell_type": "code",
   "execution_count": 48,
   "metadata": {},
   "outputs": [
    {
     "data": {
      "text/html": [
       "<div>\n",
       "<style scoped>\n",
       "    .dataframe tbody tr th:only-of-type {\n",
       "        vertical-align: middle;\n",
       "    }\n",
       "\n",
       "    .dataframe tbody tr th {\n",
       "        vertical-align: top;\n",
       "    }\n",
       "\n",
       "    .dataframe thead th {\n",
       "        text-align: right;\n",
       "    }\n",
       "</style>\n",
       "<table border=\"1\" class=\"dataframe\">\n",
       "  <thead>\n",
       "    <tr style=\"text-align: right;\">\n",
       "      <th></th>\n",
       "      <th>Unnamed: 0</th>\n",
       "      <th>word</th>\n",
       "      <th>count</th>\n",
       "      <th>type</th>\n",
       "    </tr>\n",
       "  </thead>\n",
       "  <tbody>\n",
       "    <tr>\n",
       "      <th>0</th>\n",
       "      <td>0</td>\n",
       "      <td>application</td>\n",
       "      <td>53</td>\n",
       "      <td>IT</td>\n",
       "    </tr>\n",
       "    <tr>\n",
       "      <th>1</th>\n",
       "      <td>1</td>\n",
       "      <td>monitoring</td>\n",
       "      <td>43</td>\n",
       "      <td>eco</td>\n",
       "    </tr>\n",
       "    <tr>\n",
       "      <th>2</th>\n",
       "      <td>2</td>\n",
       "      <td>technology</td>\n",
       "      <td>34</td>\n",
       "      <td>IT</td>\n",
       "    </tr>\n",
       "    <tr>\n",
       "      <th>3</th>\n",
       "      <td>3</td>\n",
       "      <td>system</td>\n",
       "      <td>33</td>\n",
       "      <td>IT</td>\n",
       "    </tr>\n",
       "    <tr>\n",
       "      <th>4</th>\n",
       "      <td>4</td>\n",
       "      <td>environment</td>\n",
       "      <td>30</td>\n",
       "      <td>IT</td>\n",
       "    </tr>\n",
       "    <tr>\n",
       "      <th>...</th>\n",
       "      <td>...</td>\n",
       "      <td>...</td>\n",
       "      <td>...</td>\n",
       "      <td>...</td>\n",
       "    </tr>\n",
       "    <tr>\n",
       "      <th>1764</th>\n",
       "      <td>1764</td>\n",
       "      <td>listed</td>\n",
       "      <td>1</td>\n",
       "      <td>eco</td>\n",
       "    </tr>\n",
       "    <tr>\n",
       "      <th>1765</th>\n",
       "      <td>1765</td>\n",
       "      <td>line</td>\n",
       "      <td>1</td>\n",
       "      <td>eco</td>\n",
       "    </tr>\n",
       "    <tr>\n",
       "      <th>1766</th>\n",
       "      <td>1766</td>\n",
       "      <td>limited</td>\n",
       "      <td>1</td>\n",
       "      <td>eco</td>\n",
       "    </tr>\n",
       "    <tr>\n",
       "      <th>1767</th>\n",
       "      <td>1767</td>\n",
       "      <td>limitations</td>\n",
       "      <td>1</td>\n",
       "      <td>eco</td>\n",
       "    </tr>\n",
       "    <tr>\n",
       "      <th>1768</th>\n",
       "      <td>1768</td>\n",
       "      <td>longdistance</td>\n",
       "      <td>1</td>\n",
       "      <td>eco</td>\n",
       "    </tr>\n",
       "  </tbody>\n",
       "</table>\n",
       "<p>1769 rows × 4 columns</p>\n",
       "</div>"
      ],
      "text/plain": [
       "      Unnamed: 0          word  count type\n",
       "0              0   application     53   IT\n",
       "1              1    monitoring     43  eco\n",
       "2              2    technology     34   IT\n",
       "3              3        system     33   IT\n",
       "4              4   environment     30   IT\n",
       "...          ...           ...    ...  ...\n",
       "1764        1764        listed      1  eco\n",
       "1765        1765          line      1  eco\n",
       "1766        1766       limited      1  eco\n",
       "1767        1767   limitations      1  eco\n",
       "1768        1768  longdistance      1  eco\n",
       "\n",
       "[1769 rows x 4 columns]"
      ]
     },
     "execution_count": 48,
     "metadata": {},
     "output_type": "execute_result"
    }
   ],
   "source": [
    "df"
   ]
  },
  {
   "cell_type": "code",
   "execution_count": 49,
   "metadata": {},
   "outputs": [],
   "source": [
    "df = df.drop(['Unnamed: 0'], axis=1)"
   ]
  },
  {
   "cell_type": "code",
   "execution_count": 50,
   "metadata": {},
   "outputs": [
    {
     "data": {
      "text/html": [
       "<div>\n",
       "<style scoped>\n",
       "    .dataframe tbody tr th:only-of-type {\n",
       "        vertical-align: middle;\n",
       "    }\n",
       "\n",
       "    .dataframe tbody tr th {\n",
       "        vertical-align: top;\n",
       "    }\n",
       "\n",
       "    .dataframe thead th {\n",
       "        text-align: right;\n",
       "    }\n",
       "</style>\n",
       "<table border=\"1\" class=\"dataframe\">\n",
       "  <thead>\n",
       "    <tr style=\"text-align: right;\">\n",
       "      <th></th>\n",
       "      <th>word</th>\n",
       "      <th>count</th>\n",
       "      <th>type</th>\n",
       "    </tr>\n",
       "  </thead>\n",
       "  <tbody>\n",
       "    <tr>\n",
       "      <th>0</th>\n",
       "      <td>application</td>\n",
       "      <td>53</td>\n",
       "      <td>IT</td>\n",
       "    </tr>\n",
       "    <tr>\n",
       "      <th>1</th>\n",
       "      <td>monitoring</td>\n",
       "      <td>43</td>\n",
       "      <td>eco</td>\n",
       "    </tr>\n",
       "    <tr>\n",
       "      <th>2</th>\n",
       "      <td>technology</td>\n",
       "      <td>34</td>\n",
       "      <td>IT</td>\n",
       "    </tr>\n",
       "    <tr>\n",
       "      <th>3</th>\n",
       "      <td>system</td>\n",
       "      <td>33</td>\n",
       "      <td>IT</td>\n",
       "    </tr>\n",
       "    <tr>\n",
       "      <th>4</th>\n",
       "      <td>environment</td>\n",
       "      <td>30</td>\n",
       "      <td>IT</td>\n",
       "    </tr>\n",
       "    <tr>\n",
       "      <th>...</th>\n",
       "      <td>...</td>\n",
       "      <td>...</td>\n",
       "      <td>...</td>\n",
       "    </tr>\n",
       "    <tr>\n",
       "      <th>1764</th>\n",
       "      <td>listed</td>\n",
       "      <td>1</td>\n",
       "      <td>eco</td>\n",
       "    </tr>\n",
       "    <tr>\n",
       "      <th>1765</th>\n",
       "      <td>line</td>\n",
       "      <td>1</td>\n",
       "      <td>eco</td>\n",
       "    </tr>\n",
       "    <tr>\n",
       "      <th>1766</th>\n",
       "      <td>limited</td>\n",
       "      <td>1</td>\n",
       "      <td>eco</td>\n",
       "    </tr>\n",
       "    <tr>\n",
       "      <th>1767</th>\n",
       "      <td>limitations</td>\n",
       "      <td>1</td>\n",
       "      <td>eco</td>\n",
       "    </tr>\n",
       "    <tr>\n",
       "      <th>1768</th>\n",
       "      <td>longdistance</td>\n",
       "      <td>1</td>\n",
       "      <td>eco</td>\n",
       "    </tr>\n",
       "  </tbody>\n",
       "</table>\n",
       "<p>1769 rows × 3 columns</p>\n",
       "</div>"
      ],
      "text/plain": [
       "              word  count type\n",
       "0      application     53   IT\n",
       "1       monitoring     43  eco\n",
       "2       technology     34   IT\n",
       "3           system     33   IT\n",
       "4      environment     30   IT\n",
       "...            ...    ...  ...\n",
       "1764        listed      1  eco\n",
       "1765          line      1  eco\n",
       "1766       limited      1  eco\n",
       "1767   limitations      1  eco\n",
       "1768  longdistance      1  eco\n",
       "\n",
       "[1769 rows x 3 columns]"
      ]
     },
     "execution_count": 50,
     "metadata": {},
     "output_type": "execute_result"
    }
   ],
   "source": [
    "df"
   ]
  },
  {
   "cell_type": "code",
   "execution_count": 51,
   "metadata": {},
   "outputs": [],
   "source": [
    "def circle_df(train_df):\n",
    "    train_df.loc[train_df['word'].isin(df['word']), 'type'] = df['type']\n",
    "    type_counts = train_df['type'].value_counts()\n",
    "    pie_chart = type_counts.plot.pie(figsize=(5, 5))\n",
    "    return plt.show()"
   ]
  },
  {
   "cell_type": "code",
   "execution_count": 52,
   "metadata": {},
   "outputs": [
    {
     "data": {
      "text/plain": [
       "'eco'"
      ]
     },
     "execution_count": 52,
     "metadata": {},
     "output_type": "execute_result"
    }
   ],
   "source": [
    "result(train1_words)"
   ]
  },
  {
   "cell_type": "code",
   "execution_count": 53,
   "metadata": {},
   "outputs": [
    {
     "data": {
      "image/png": "[encoded data removed]",
      "text/plain": [
       "<Figure size 360x360 with 1 Axes>"
      ]
     },
     "metadata": {},
     "output_type": "display_data"
    }
   ],
   "source": [
    "circle_df(train1_df)"
   ]
  },
  {
   "attachments": {},
   "cell_type": "markdown",
   "metadata": {},
   "source": [
    "## ----------------------------------------------------------"
   ]
  },
  {
   "cell_type": "code",
   "execution_count": 54,
   "metadata": {},
   "outputs": [
    {
     "data": {
      "text/plain": [
       "'VR'"
      ]
     },
     "execution_count": 54,
     "metadata": {},
     "output_type": "execute_result"
    }
   ],
   "source": [
    "result(train2_words)"
   ]
  },
  {
   "cell_type": "code",
   "execution_count": 55,
   "metadata": {},
   "outputs": [
    {
     "data": {
      "image/png": "[encoded data removed]",
      "text/plain": [
       "<Figure size 360x360 with 1 Axes>"
      ]
     },
     "metadata": {},
     "output_type": "display_data"
    }
   ],
   "source": [
    "circle_df(train2_df)"
   ]
  },
  {
   "attachments": {},
   "cell_type": "markdown",
   "metadata": {},
   "source": [
    "## ----------------------------------------------------------"
   ]
  },
  {
   "cell_type": "code",
   "execution_count": 56,
   "metadata": {},
   "outputs": [
    {
     "data": {
      "text/plain": [
       "'VR'"
      ]
     },
     "execution_count": 56,
     "metadata": {},
     "output_type": "execute_result"
    }
   ],
   "source": [
    "result(train3_words)"
   ]
  },
  {
   "cell_type": "code",
   "execution_count": 57,
   "metadata": {},
   "outputs": [
    {
     "data": {
      "image/png": "[encoded data removed]",
      "text/plain": [
       "<Figure size 360x360 with 1 Axes>"
      ]
     },
     "metadata": {},
     "output_type": "display_data"
    }
   ],
   "source": [
    "circle_df(train3_df)"
   ]
  },
  {
   "attachments": {},
   "cell_type": "markdown",
   "metadata": {},
   "source": [
    "## ----------------------------------------------------------"
   ]
  },
  {
   "cell_type": "code",
   "execution_count": 58,
   "metadata": {},
   "outputs": [
    {
     "data": {
      "text/plain": [
       "'VR'"
      ]
     },
     "execution_count": 58,
     "metadata": {},
     "output_type": "execute_result"
    }
   ],
   "source": [
    "result(train4_words)"
   ]
  },
  {
   "cell_type": "code",
   "execution_count": 59,
   "metadata": {},
   "outputs": [
    {
     "data": {
      "image/png": "[encoded data removed]",
      "text/plain": [
       "<Figure size 360x360 with 1 Axes>"
      ]
     },
     "metadata": {},
     "output_type": "display_data"
    }
   ],
   "source": [
    "circle_df(train4_df)\n"
   ]
  },
  {
   "attachments": {},
   "cell_type": "markdown",
   "metadata": {},
   "source": [
    "## ----------------------------------------------------------"
   ]
  },
  {
   "cell_type": "code",
   "execution_count": 60,
   "metadata": {},
   "outputs": [
    {
     "data": {
      "text/plain": [
       "'eco'"
      ]
     },
     "execution_count": 60,
     "metadata": {},
     "output_type": "execute_result"
    }
   ],
   "source": [
    "result(train5_words)"
   ]
  },
  {
   "cell_type": "code",
   "execution_count": 61,
   "metadata": {},
   "outputs": [
    {
     "data": {
      "image/png": "[encoded data removed]",
      "text/plain": [
       "<Figure size 360x360 with 1 Axes>"
      ]
     },
     "metadata": {},
     "output_type": "display_data"
    }
   ],
   "source": [
    "circle_df(train5_df)"
   ]
  },
  {
   "attachments": {},
   "cell_type": "markdown",
   "metadata": {},
   "source": [
    "## ----------------------------------------------------------"
   ]
  },
  {
   "cell_type": "code",
   "execution_count": 62,
   "metadata": {},
   "outputs": [
    {
     "data": {
      "text/plain": [
       "'eco'"
      ]
     },
     "execution_count": 62,
     "metadata": {},
     "output_type": "execute_result"
    }
   ],
   "source": [
    "result(train6_words)"
   ]
  },
  {
   "cell_type": "code",
   "execution_count": 63,
   "metadata": {},
   "outputs": [
    {
     "data": {
      "image/png": "[encoded data removed]",
      "text/plain": [
       "<Figure size 360x360 with 1 Axes>"
      ]
     },
     "metadata": {},
     "output_type": "display_data"
    }
   ],
   "source": [
    "circle_df(train6_df)"
   ]
  },
  {
   "cell_type": "code",
   "execution_count": 64,
   "metadata": {},
   "outputs": [],
   "source": [
    "# cv2.imshow(\"img\", img)\n",
    "# cv2.waitKey(0)"
   ]
  }
 ],
 "metadata": {
  "kernelspec": {
   "display_name": "Python 3",
   "language": "python",
   "name": "python3"
  },
  "language_info": {
   "codemirror_mode": {
    "name": "ipython",
    "version": 3
   },
   "file_extension": ".py",
   "mimetype": "text/x-python",
   "name": "python",
   "nbconvert_exporter": "python",
   "pygments_lexer": "ipython3",
   "version": "3.10.0"
  },
  "orig_nbformat": 4,
  "vscode": {
   "interpreter": {
    "hash": "fcaaa2e39c35ecc5001cadf1314525f3ff006f3ae901308fe8b734a4c41a783a"
   }
  }
 },
 "nbformat": 4,
 "nbformat_minor": 2
}
